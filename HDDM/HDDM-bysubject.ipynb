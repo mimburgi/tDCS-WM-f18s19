{
 "cells": [
  {
   "cell_type": "code",
   "execution_count": 1,
   "metadata": {},
   "outputs": [
    {
     "name": "stderr",
     "output_type": "stream",
     "text": [
      "/Users/mimburgi/anaconda3/lib/python2.7/site-packages/IPython/parallel.py:13: ShimWarning: The `IPython.parallel` package has been deprecated since IPython 4.0. You should import from ipyparallel instead.\n",
      "  \"You should import from ipyparallel instead.\", ShimWarning)\n"
     ]
    }
   ],
   "source": [
    "import pandas as pd #for dealing with data as tables\n",
    "import matplotlib.pyplot as plt #for visualization\n",
    "\n",
    "%matplotlib inline\n",
    "import hddm"
   ]
  },
  {
   "cell_type": "code",
   "execution_count": 2,
   "metadata": {},
   "outputs": [],
   "source": [
    "data = hddm.load_csv('./input.csv')"
   ]
  },
  {
   "cell_type": "code",
   "execution_count": 3,
   "metadata": {},
   "outputs": [
    {
     "name": "stdout",
     "output_type": "stream",
     "text": [
      "Adding these covariates:\n",
      "['v_Intercept', 'v_C(session)[T.2]', 'v_C(task)[T.two]', 'v_difficulty']\n",
      "Adding these covariates:\n",
      "['v_Intercept', 'v_C(session)[T.2]', 'v_C(condition)[T.S]', 'v_C(task)[T.two]:C(condition)[A]', 'v_C(task)[T.two]:C(condition)[S]', 'v_difficulty']\n"
     ]
    }
   ],
   "source": [
    "m1 = hddm.models.HDDMRegressor(data, 'v ~ C(session) + C(task) + difficulty', \n",
    "                               'a ~ C(session) + C(task) + difficulty')\n",
    "m2 = hddm.models.HDDMRegressor(data, 'v ~ C(session) + difficulty + C(task):C(condition)', \n",
    "                               'a ~ C(session)+ difficulty + C(task):C(condition)')"
   ]
  },
  {
   "cell_type": "code",
   "execution_count": 4,
   "metadata": {},
   "outputs": [
    {
     "name": "stdout",
     "output_type": "stream",
     "text": [
      " [-----------------100%-----------------] 10001 of 10000 complete in 5807.5 sec"
     ]
    },
    {
     "data": {
      "text/plain": [
       "<pymc.MCMC.MCMC at 0x1a2560c850>"
      ]
     },
     "execution_count": 4,
     "metadata": {},
     "output_type": "execute_result"
    }
   ],
   "source": [
    "m1.sample(10000, burn=1000)\n",
    "m2.sample(10000, burn=1000)"
   ]
  },
  {
   "cell_type": "code",
   "execution_count": 5,
   "metadata": {},
   "outputs": [
    {
     "name": "stdout",
     "output_type": "stream",
     "text": [
      "                       mean          std      2.5q       25q       50q       75q     97.5q       mc err\n",
      "a                   1.71359    0.0058463   1.70183   1.70981   1.71365    1.7175    1.7249  8.99027e-05\n",
      "t                  0.182024  0.000719242  0.180553  0.181539  0.182032   0.18251  0.183426  9.36597e-06\n",
      "v_Intercept         1.30603    0.0319263    1.2428    1.2849   1.30663   1.32774   1.36784   0.00140359\n",
      "v_C(session)[T.2]  0.270949    0.0185374  0.234922  0.258434  0.270892  0.283523  0.307306  0.000285975\n",
      "v_C(task)[T.two]   0.147309    0.0190678  0.110271  0.134227   0.14719  0.160441  0.185284  0.000480394\n",
      "v_difficulty      -0.211762    0.0122452 -0.235109 -0.220104 -0.211925  -0.20343 -0.187692  0.000541382\n",
      "DIC: 29499.652822\n",
      "deviance: 29493.733524\n",
      "pD: 5.919299\n"
     ]
    }
   ],
   "source": [
    "m1.print_stats()"
   ]
  },
  {
   "cell_type": "code",
   "execution_count": 6,
   "metadata": {},
   "outputs": [
    {
     "name": "stdout",
     "output_type": "stream",
     "text": [
      "                                        mean          std       2.5q        25q         50q         75q      97.5q       mc err\n",
      "a                                    1.71353   0.00600674    1.70183    1.70953     1.71365     1.71756    1.72563  9.04615e-05\n",
      "t                                   0.182027  0.000724873   0.180609   0.181532    0.182028    0.182524   0.183447  9.64825e-06\n",
      "v_Intercept                          1.30495    0.0342252    1.23927    1.28101     1.30466     1.32838    1.37393   0.00154602\n",
      "v_C(session)[T.2]                   0.271485    0.0188558   0.234591   0.258573    0.271768    0.284396   0.309406  0.000340329\n",
      "v_C(condition)[T.S]              -0.00762406    0.0249023 -0.0565582 -0.0242891 -0.00744484  0.00946301  0.0405926  0.000638797\n",
      "v_C(task)[T.two]:C(condition)[A]    0.145676    0.0258488   0.093578   0.128648    0.146296    0.163032   0.195468   0.00069727\n",
      "v_C(task)[T.two]:C(condition)[S]    0.151981    0.0264868  0.0992004   0.134027     0.15204    0.170376   0.202864  0.000566464\n",
      "v_difficulty                       -0.210084    0.0125533  -0.234698  -0.218553    -0.21002    -0.20162  -0.185582  0.000548105\n",
      "DIC: 29503.735374\n",
      "deviance: 29495.718304\n",
      "pD: 8.017070\n"
     ]
    }
   ],
   "source": [
    "m2.print_stats()"
   ]
  },
  {
   "cell_type": "code",
   "execution_count": null,
   "metadata": {},
   "outputs": [],
   "source": []
  },
  {
   "cell_type": "code",
   "execution_count": null,
   "metadata": {},
   "outputs": [],
   "source": []
  },
  {
   "cell_type": "code",
   "execution_count": null,
   "metadata": {},
   "outputs": [],
   "source": []
  }
 ],
 "metadata": {
  "kernelspec": {
   "display_name": "Python 2",
   "language": "python",
   "name": "python2"
  },
  "language_info": {
   "codemirror_mode": {
    "name": "ipython",
    "version": 2
   },
   "file_extension": ".py",
   "mimetype": "text/x-python",
   "name": "python",
   "nbconvert_exporter": "python",
   "pygments_lexer": "ipython2",
   "version": "2.7.16"
  }
 },
 "nbformat": 4,
 "nbformat_minor": 2
}
